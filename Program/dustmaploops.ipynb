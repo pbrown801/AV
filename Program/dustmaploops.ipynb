{
 "cells": [
  {
   "cell_type": "code",
   "execution_count": null,
   "metadata": {},
   "outputs": [
    {
     "name": "stderr",
     "output_type": "stream",
     "text": [
      "WARNING: AstropyDeprecationWarning: astropy.extern.six will be removed in 4.0, use the six module directly if it is still needed [astropy.extern.six]\n"
     ]
    }
   ],
   "source": [
    "from __future__ import print_function\n",
    "\n",
    "import matplotlib\n",
    "import matplotlib.pyplot as plt\n",
    "import numpy as np\n",
    "\n",
    "import astropy.units as units\n",
    "from astropy.coordinates import SkyCoord\n",
    "from astropy.coordinates import Angle\n",
    "from astroquery.irsa_dust import IrsaDust\n",
    "\n",
    "import healpy as hp\n",
    "import pandas as pd\n",
    "import warnings\n",
    "warnings.filterwarnings('ignore')\n",
    "\n",
    "from dustmaps.sfd import SFDQuery\n",
    "from dustmaps.planck import PlanckQuery\n",
    "from dustmaps.bayestar import BayestarQuery\n",
    "\n",
    "#import getAVbest2\n",
    "#import getAVbest\n",
    "import dustmaps.planck\n",
    "#dustmaps.planck.fetch()\n",
    "print('done with importing')\n"
   ]
  },
  {
   "cell_type": "code",
   "execution_count": null,
   "metadata": {},
   "outputs": [],
   "source": [
    "\n",
    "inFile = 'Brown_Walker_table_1.dat'\n",
    "inTable = pd.read_csv(inFile,header=None,delimiter=' ')\n",
    "names = inTable.iloc[:,0]\n",
    "allra = inTable.iloc[:,1]\n",
    "alldec = inTable.iloc[:,2]\n",
    "distances = inTable.iloc[:,3]\n",
    "cardinalAV = inTable.iloc[:,4]\n",
    "cardinalAVspread = inTable.iloc[:,5]\n",
    "n=len(inTable.index)\n",
    "    \n",
    "#print(cardinalAV)\n"
   ]
  },
  {
   "cell_type": "code",
   "execution_count": null,
   "metadata": {},
   "outputs": [],
   "source": [
    "fig = plt.figure(figsize=(4,4), dpi=150)\n",
    "ax = fig.add_subplot(111)\n",
    "plt.xlabel(\"Annular A$_V$\")\n",
    "plt.ylabel(\"A$_V$\")\n",
    "plt.legend(loc='bottom right', shadow=True)\n",
    "#    plt.suptitle(\"A$_V$ Values by Arcminute\")\n",
    "ax.set_aspect('equal', adjustable='box')\n",
    "ax.set_xscale('log')\n",
    "xlim=[0.3,3]\n",
    "ax.set_yscale('log')\n",
    "ylim=3\n"
   ]
  },
  {
   "cell_type": "code",
   "execution_count": null,
   "metadata": {},
   "outputs": [],
   "source": [
    "name='UGC2855'\n",
    "#name='SMC'\n",
    "#print(names)\n",
    "index=np.where(names==name)\n",
    "print(index)\n",
    "print(names[90])\n",
    "index=90\n"
   ]
  },
  {
   "cell_type": "code",
   "execution_count": null,
   "metadata": {},
   "outputs": [],
   "source": [
    "imagename=name+'_radeccomparison.png'\n",
    "print(allra[index])\n",
    "ra0 = Angle(allra[index])\n",
    "dec0 = Angle(alldec[index])\n",
    "print(ra0, dec0)"
   ]
  },
  {
   "cell_type": "code",
   "execution_count": null,
   "metadata": {},
   "outputs": [],
   "source": [
    "ra = np.arange(ra0.degree - 2., ra0.degree + 2., 0.05)\n",
    "dec = np.arange(dec0.degree - 2., dec0.degree + 2., 0.05)\n",
    "ra, dec = np.meshgrid(ra, dec)\n",
    "coords = SkyCoord(ra*units.deg, dec*units.deg, frame='icrs')\n",
    "\n",
    "sfd = SFDQuery()\n",
    "# this conversion puts Av on the Schlafly system\n",
    "Av_sfd = 2.742 * sfd(coords)\n",
    "\n",
    "planck = PlanckQuery()\n",
    "Av_planck = 3.1 * planck(coords)\n",
    "\n",
    "    "
   ]
  },
  {
   "cell_type": "code",
   "execution_count": null,
   "metadata": {},
   "outputs": [],
   "source": [
    "maxboth=max(np.amax(Av_planck),np.amax(Av_sfd))\n",
    "print(maxboth)"
   ]
  },
  {
   "cell_type": "code",
   "execution_count": null,
   "metadata": {},
   "outputs": [],
   "source": [
    "fig = plt.figure(figsize=(8,4), dpi=150)\n",
    "\n",
    "for k,(Av,title) in enumerate([(Av_sfd, 'SFD'),\n",
    "                               (Av_planck, 'Planck')]):\n",
    "\n",
    "\n",
    "    ax = fig.add_subplot(1,2,k+1)\n",
    "    ax.imshow(\n",
    "    np.sqrt(Av)[::,::-1],\n",
    "    vmin=0.,\n",
    "    vmax=maxboth,\n",
    "    origin='lower',\n",
    "    interpolation='nearest',\n",
    "    cmap='binary',\n",
    "    aspect='equal'\n",
    "    )\n",
    "    ax.axis('off')\n",
    "    ax.set_title(title)\n",
    "\n",
    "fig.subplots_adjust(wspace=0., hspace=0.)\n",
    "plt.savefig(imagename, dpi=150)\n"
   ]
  },
  {
   "cell_type": "code",
   "execution_count": null,
   "metadata": {},
   "outputs": [],
   "source": [
    "# now loop through everything"
   ]
  },
  {
   "cell_type": "code",
   "execution_count": null,
   "metadata": {},
   "outputs": [],
   "source": [
    "\n",
    "inFile = 'Brown_Walker_table_1.dat'\n",
    "inTable = pd.read_csv(inFile,header=None,delimiter=' ')\n",
    "names = inTable.iloc[:,0]\n",
    "allra = inTable.iloc[:,1]\n",
    "alldec = inTable.iloc[:,2]\n",
    "distances = inTable.iloc[:,3]\n",
    "cardinalAV = inTable.iloc[:,4]\n",
    "cardinalAVspread = inTable.iloc[:,5]\n",
    "n=len(inTable.index)\n",
    "    \n",
    "print(cardinalAV)\n",
    "\n",
    "SF2011AVs = [None]*n\n",
    "SFDqueryAVs = [None]*n\n",
    "BW2021AVs = [None]*n\n",
    "BW20212AVs = [None]*n\n",
    "PlanckAVs = [None]*n\n",
    "HIAVs = [None]*n\n",
    "index = [i for i in range(n)]\n"
   ]
  },
  {
   "cell_type": "code",
   "execution_count": null,
   "metadata": {},
   "outputs": [],
   "source": [
    "for j in index:\n",
    "\n",
    "\n",
    "    ra0, dec0 = allra[j], alldec[j]\n",
    "    \n",
    "    sourceCoords = SkyCoord(ra0,dec0,frame='icrs')\n",
    "    print(\"sourceCoords \", sourceCoords)\n",
    "\n",
    "    sfd = SFDQuery()\n",
    "    # this conversion puts Av on the Schlafly system\n",
    "    Av_sfd = 2.742 * sfd(sourceCoords)\n",
    "    print(\"av_sfd good\")\n",
    "    planck = PlanckQuery()\n",
    "    Av_planck = 3.1 * planck(sourceCoords)\n",
    "\n",
    "    AVtable = IrsaDust.get_extinction_table(sourceCoords,show_progress = False)\n",
    "    AV=AVtable['A_SandF'][2]\n",
    "\n",
    "    SF2011AVs[j] = AV\n",
    "    SFDqueryAVs[j] = Av_sfd\n",
    "    # BW2021AVs[j],err,source = getAVbest(SourceCoords)\n",
    "    # BW20212AVs[j],err,source = getAVbest2(SourceCoords)\n",
    "    PlanckAVs[j] = Av_planck\n",
    "\n",
    "    # https://nbviewer.jupyter.org/github/DanielLenz/ebv_tools/blob/master/examples.ipynb\n",
    "    ebv_map = hp.read_map('/Users/pbrown/Desktop/SN/github/ebv_tools/ebv_lhd.hpx.fits', verbose=False)\n",
    "    nside = hp.get_nside(ebv_map)\n",
    "    npix = hp.nside2npix(nside)\n",
    "    ordering = 'ring'\n",
    "\n",
    "    s_gal = sourceCoords.galactic\n",
    "    glon = s_gal.l.value\n",
    "    glat = s_gal.b.value\n",
    "    pix = hp.ang2pix(nside, glon, glat, lonlat=True)\n",
    "    \n",
    "    # get reddening for these pixels\n",
    "    ebv_los = ebv_map[pix]\n",
    "    # the conversion puts it on the schlafley system\n",
    "    HIAVs[j] = ebv_los*2.742\n",
    "\n",
    "    imagename=names[j]+'_radeccomparison.png'\n",
    "\n",
    "    ra0 = Angle(ra0)\n",
    "    dec0 = Angle(dec0)\n",
    "\n",
    "\n",
    "x=cardinalAV[0:n]\n",
    "\n",
    "for j in index:\n",
    "    print(names[j], x[j], SF2011AVs[j], SFDqueryAVs[j], PlanckAVs[j], HIAVs[j])\n",
    "\n"
   ]
  },
  {
   "cell_type": "code",
   "execution_count": null,
   "metadata": {},
   "outputs": [],
   "source": [
    "plt.clf()\n",
    "fig = plt.figure(figsize=(4,4), dpi=150)\n",
    "ax.loglog()\n",
    "plt.plot(x,SF2011AVs, color = '#00429d', marker = \"o\", linestyle='none', label = \"SF2011\")\n",
    "plt.plot(x,SFDqueryAVs, color = '#73a2c6', marker = \".\", linestyle='none',  label = \"SFDquery\")\n",
    "plt.plot(x,PlanckAVs, color = '#f4777f', marker = \"x\",  linestyle='none', label = \"Planck\")\n",
    "plt.plot(x,HIAVs, color = '#93003a', marker = \"H\",  linestyle='none', label = \"HI\")\n",
    "#plt.axvline(x=majAxis[j])\n",
    "plt.xlabel(\"Annular A$_V$\")\n",
    "plt.ylabel(\"A$_V$\")\n",
    "plt.legend(loc='bottom right', shadow=True)\n",
    "#    plt.suptitle(\"A$_V$ Values by Arcminute\")\n",
    "ax.set_aspect('equal', adjustable='box')\n",
    "#ax.set_xscale('log')\n",
    "plt.xlim(0,0.1)\n",
    "#ax.set_yscale('log')\n",
    "plt.ylim(0,0.1)\n",
    "plt.savefig('AVcomp.png', dpi=150)\n",
    "\n"
   ]
  },
  {
   "cell_type": "code",
   "execution_count": null,
   "metadata": {},
   "outputs": [],
   "source": []
  }
 ],
 "metadata": {
  "kernelspec": {
   "display_name": "Python 3",
   "language": "python",
   "name": "python3"
  },
  "language_info": {
   "codemirror_mode": {
    "name": "ipython",
    "version": 3
   },
   "file_extension": ".py",
   "mimetype": "text/x-python",
   "name": "python",
   "nbconvert_exporter": "python",
   "pygments_lexer": "ipython3",
   "version": "3.7.4"
  }
 },
 "nbformat": 4,
 "nbformat_minor": 2
}
