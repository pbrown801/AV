{
 "cells": [
  {
   "cell_type": "code",
   "execution_count": 29,
   "metadata": {},
   "outputs": [
    {
     "name": "stdout",
     "output_type": "stream",
     "text": [
      "Downloading data to '/Users/pbrown/opt/miniconda3/lib/python3.7/site-packages/dustmaps/data/bayestar/bayestar2019.h5' ...\n",
      "Downloading https://dataverse.harvard.edu/api/access/datafile/3424724 ...\n"
     ]
    },
    {
     "name": "stderr",
     "output_type": "stream",
     "text": [
      "694.1 MiB of 694.2 MiB |   8.4 MiB/s |################# |  99% | ETA:   0:00:00"
     ]
    },
    {
     "name": "stdout",
     "output_type": "stream",
     "text": [
      "done importing\n"
     ]
    }
   ],
   "source": [
    "from __future__ import print_function\n",
    "import matplotlib.pyplot as plt \n",
    "import numpy as np\n",
    "\n",
    "import astropy.units as units \n",
    "from astropy.coordinates import SkyCoord \n",
    "from astropy.coordinates import Angle \n",
    "from astroquery.irsa_dust import IrsaDust\n",
    "\n",
    "import healpy as hp \n",
    "import pandas as pd \n",
    "\n",
    "from dustmaps.sfd import SFDQuery \n",
    "from dustmaps.planck import PlanckQuery \n",
    "from dustmaps.bayestar import BayestarQuery\n",
    "import dustmaps.bayestar\n",
    "dustmaps.bayestar.fetch()\n",
    "\n",
    "\n",
    "import warnings\n",
    "warnings.filterwarnings('ignore')\n",
    "print('done importing')\n",
    "#import getAVbest2\n",
    "\n",
    "#import getAVbest import dustmaps.planck\n",
    "\n",
    "#dustmaps.planck.fetch() print('done with importing')\n"
   ]
  },
  {
   "cell_type": "code",
   "execution_count": null,
   "metadata": {},
   "outputs": [],
   "source": [
    "\n"
   ]
  },
  {
   "cell_type": "code",
   "execution_count": null,
   "metadata": {},
   "outputs": [],
   "source": [
    "\n"
   ]
  },
  {
   "cell_type": "code",
   "execution_count": 24,
   "metadata": {},
   "outputs": [
    {
     "name": "stdout",
     "output_type": "stream",
     "text": [
      "<SkyCoord (ICRS): (ra, dec) in deg\n",
      "    (57.08637917, 70.13288056)>\n",
      "done\n"
     ]
    }
   ],
   "source": [
    "name='UGC2855'\n",
    "Coord = SkyCoord.from_name(name, frame = 'icrs')\n",
    "print(Coord)\n",
    "ra0=Coord.ra\n",
    "dec0=Coord.dec\n",
    "print('done')\n"
   ]
  },
  {
   "cell_type": "code",
   "execution_count": null,
   "metadata": {},
   "outputs": [],
   "source": []
  },
  {
   "cell_type": "code",
   "execution_count": null,
   "metadata": {},
   "outputs": [],
   "source": [
    "ra = np.arange(ra0.degree - 2., ra0.degree + 2., 0.05)\n",
    "dec = np.arange(dec0.degree - 2., dec0.degree + 2., 0.05)\n",
    "ra, dec = np.meshgrid(ra, dec)\n",
    "coords = SkyCoord(ra*units.deg, dec*units.deg, frame='icrs')\n",
    "\n",
    "sfd = SFDQuery()\n",
    "# this conversion puts Av on the Schlafly system\n",
    "Av_sfd = 2.742 * sfd(coords)\n",
    "\n",
    "planck = PlanckQuery()\n",
    "Av_planck = 3.1 * planck(coords)"
   ]
  },
  {
   "cell_type": "code",
   "execution_count": null,
   "metadata": {},
   "outputs": [],
   "source": [
    "bayestar = BayestarQuery(max_samples=1)\n",
    "Av_bayestar = 2.742 * bayestar(coords)"
   ]
  },
  {
   "cell_type": "code",
   "execution_count": null,
   "metadata": {},
   "outputs": [],
   "source": [
    "ebv_map = hp.read_map('$SNFOLDER/github/ebv_tools/ebv_lhd.hpx.fits', verbose=False)\n",
    "nside = hp.get_nside(ebv_map)\n",
    "npix = hp.nside2npix(nside)\n",
    "ordering = 'ring'\n",
    "\n",
    "\n",
    "s_gal = coords.galactic\n",
    "glon = s_gal.l.value\n",
    "glat = s_gal.b.value\n",
    "pix = hp.ang2pix(nside, glon, glat, lonlat=True)\n",
    "ebv_los = ebv_map[pix]\n",
    "Av_HI = ebv_los*2.742\n",
    "print('done loading')"
   ]
  },
  {
   "cell_type": "code",
   "execution_count": 16,
   "metadata": {},
   "outputs": [
    {
     "name": "stdout",
     "output_type": "stream",
     "text": [
      "2.6020184\n"
     ]
    }
   ],
   "source": [
    "maxboth=max(np.amax(Av_planck),np.amax(Av_sfd))\n",
    "print(maxboth)"
   ]
  },
  {
   "cell_type": "code",
   "execution_count": 18,
   "metadata": {},
   "outputs": [
    {
     "data": {
      "image/png": "[encoded data removed]",
      "text/plain": [
       "<Figure size 1200x600 with 2 Axes>"
      ]
     },
     "metadata": {
      "needs_background": "light"
     },
     "output_type": "display_data"
    }
   ],
   "source": [
    "fig = plt.figure(figsize=(8,4), dpi=150)\n",
    "\n",
    "for k,(Av,title) in enumerate([(Av_sfd, 'SFD'),\n",
    "                               (Av_planck, 'Planck'),\n",
    "                               (Av_bayestar, 'Bayestar')]):\n",
    "\n",
    "    ax = fig.add_subplot(1,3,k+1)\n",
    "    ax.imshow(\n",
    "    np.sqrt(Av)[::,::-1],\n",
    "    vmin=0.,\n",
    "    vmax=maxboth,\n",
    "    origin='lower',\n",
    "    interpolation='nearest',\n",
    "    cmap='binary',\n",
    "    aspect='equal'\n",
    "    )\n",
    "    ax.axis('off')\n",
    "    ax.set_title(title)\n",
    "\n",
    "fig.subplots_adjust(wspace=0., hspace=0.)\n",
    "plt.savefig(imagename, dpi=150)\n"
   ]
  },
  {
   "cell_type": "code",
   "execution_count": null,
   "metadata": {},
   "outputs": [],
   "source": []
  },
  {
   "cell_type": "code",
   "execution_count": null,
   "metadata": {},
   "outputs": [],
   "source": [
    "\n"
   ]
  },
  {
   "cell_type": "code",
   "execution_count": null,
   "metadata": {},
   "outputs": [],
   "source": []
  },
  {
   "cell_type": "code",
   "execution_count": null,
   "metadata": {},
   "outputs": [],
   "source": [
    "\n"
   ]
  },
  {
   "cell_type": "code",
   "execution_count": null,
   "metadata": {},
   "outputs": [],
   "source": []
  }
 ],
 "metadata": {
  "kernelspec": {
   "display_name": "Python 3",
   "language": "python",
   "name": "python3"
  },
  "language_info": {
   "codemirror_mode": {
    "name": "ipython",
    "version": 3
   },
   "file_extension": ".py",
   "mimetype": "text/x-python",
   "name": "python",
   "nbconvert_exporter": "python",
   "pygments_lexer": "ipython3",
   "version": "3.7.4"
  }
 },
 "nbformat": 4,
 "nbformat_minor": 2
}
