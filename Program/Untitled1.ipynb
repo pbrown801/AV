{
 "cells": [
  {
   "cell_type": "code",
   "execution_count": 1,
   "id": "58f7cdf4",
   "metadata": {},
   "outputs": [],
   "source": [
    "def getAV(coord):\n",
    "    from astroquery.irsa_dust import IrsaDust\n",
    "    from astropy.coordinates import Angle,ICRS,SkyCoord\n",
    "#    print(coord)\n",
    "#    C = SkyCoord(coord, frame = 'icrs')\n",
    "#    print(C)\n",
    "    table = IrsaDust.get_extinction_table(coord,show_progress = False)\n",
    "#    print(table['A_SandF'][2])\n",
    "    return (table['A_SandF'][2])\n"
   ]
  },
  {
   "cell_type": "code",
   "execution_count": 2,
   "id": "15bb4967",
   "metadata": {},
   "outputs": [],
   "source": [
    "def annulusmedian(distance,ra_central,dec_central):\n",
    "    from astropy.coordinates import Angle,ICRS,SkyCoord\n",
    "    import numpy as np\n",
    "    import math\n",
    "    from astropy import units as u\n",
    "    from astropy import coordinates\n",
    "#    print('starting annulusmedian ', distance, ra_central, dec_central)\n",
    "#    ra='12h00m00.0s'\n",
    "#    dec='00d00m00.00s'\n",
    "#    distance=60.0    \n",
    "    degreedistance=distance/60.0\n",
    "\n",
    "    \"\"\"\n",
    "        Gets 360 coordinates a specified distance away from the center of the galaxy\n",
    "        Inputs:\n",
    "            distance: distance in arcminutes\n",
    "            ra_central: right ascension component of the coordinate\n",
    "            dec_central: declination component of the coordinate\n",
    "        Outputs:\n",
    "            ring_coords: list of coordinates *distance* arcminutes away from the center of the specified galaxy\n",
    "\n",
    "    \"\"\"\n",
    "\n",
    "    ring_coords = [None]*360 \n",
    "    directions = [i for i in range(360)]\n",
    "    AVloop = [i for i in range(360)]\n",
    "\n",
    "#    print('just before skycoord ',ra_central, ' ', dec_central)\n",
    "\n",
    "    inputcoord=SkyCoord(ra_central,dec_central,frame='fk5')\n",
    "#    print(inputcoord)\n",
    "\n",
    "    for direction in directions:\n",
    "#        print(direction)\n",
    "        newdec=inputcoord.dec+Angle(degreedistance*math.cos(direction*2.0*3.14159/360.0),unit=u.degree)\n",
    "#        print(newdec)\n",
    "        newra=inputcoord.ra+Angle(math.cos(newdec.value*2.0*3.14159/360.0)*degreedistance*math.sin(direction*2.0*3.14159/360.0),u.degree)\n",
    "#        print(newra)\n",
    "         \n",
    "        ring_coords[direction] = SkyCoord(ra=newra, dec=newdec)\n",
    "#        print(ring_coords)\n",
    "#    print(ring_coords)\n",
    "        AVloop[direction]=getAV(ring_coords[direction])\n",
    "\n",
    "    AVmedian=np.median(AVloop)\n",
    "    AVstddev=np.std(AVloop)\n",
    "\n",
    "    return AVmedian, AVstddev; #performs transformation of initial coordinate into cardinal coordinates\n"
   ]
  },
  {
   "cell_type": "code",
   "execution_count": 3,
   "id": "203be771",
   "metadata": {},
   "outputs": [],
   "source": [
    "    import math\n",
    "    import sys\n",
    "    from astropy import units as u\n",
    "    from astropy import coordinates\n",
    "    from astropy.coordinates import Angle,ICRS,SkyCoord\n",
    "    import numpy as np\n",
    "    import pandas as pd\n"
   ]
  },
  {
   "cell_type": "code",
   "execution_count": 7,
   "id": "9a2fa23d",
   "metadata": {},
   "outputs": [
    {
     "name": "stdout",
     "output_type": "stream",
     "text": [
      "      0               1              2   3      4      5                  6\n",
      "0  M106  12h18m57.5046s  +47d18m14.303  35  0.045  0.005  Brown_Walker_2020\n"
     ]
    }
   ],
   "source": [
    "    inFile = 'Brown_Walker_table_M106.dat'\n",
    "    inTable = pd.read_csv(inFile,header=None,delimiter=' ')\n",
    "    names = inTable.iloc[:,0]\n",
    "    print(inTable)\n",
    "    ra = Angle(inTable.iloc[:,1])\n",
    "    dec = Angle(inTable.iloc[:,2])\n",
    "    distances = inTable.iloc[:,3]\n",
    "    cardinalAV = inTable.iloc[:,4]\n",
    "    cardinalAVspread = inTable.iloc[:,5]\n",
    "    sourceCoords = SkyCoord(ra,dec,frame='fk5')\n"
   ]
  },
  {
   "cell_type": "code",
   "execution_count": null,
   "id": "bdcad57f",
   "metadata": {},
   "outputs": [],
   "source": []
  }
 ],
 "metadata": {
  "kernelspec": {
   "display_name": "Python 3 (ipykernel)",
   "language": "python",
   "name": "python3"
  },
  "language_info": {
   "codemirror_mode": {
    "name": "ipython",
    "version": 3
   },
   "file_extension": ".py",
   "mimetype": "text/x-python",
   "name": "python",
   "nbconvert_exporter": "python",
   "pygments_lexer": "ipython3",
   "version": "3.9.7"
  }
 },
 "nbformat": 4,
 "nbformat_minor": 5
}
